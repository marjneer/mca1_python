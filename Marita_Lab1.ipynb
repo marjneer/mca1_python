{
 "cells": [
  {
   "cell_type": "code",
   "execution_count": 2,
   "id": "f4168810",
   "metadata": {},
   "outputs": [
    {
     "name": "stdout",
     "output_type": "stream",
     "text": [
      "10\n"
     ]
    }
   ],
   "source": [
    "#1)a)\n",
    "list1=[1,2,3,4]\n",
    "total=0\n",
    "for i in range(len(list1)):\n",
    "    total+=list1[i]\n",
    "print(total)"
   ]
  },
  {
   "cell_type": "code",
   "execution_count": 3,
   "id": "76cbff9b",
   "metadata": {},
   "outputs": [
    {
     "name": "stdout",
     "output_type": "stream",
     "text": [
      "24\n"
     ]
    }
   ],
   "source": [
    "#1)b)\n",
    "product=1\n",
    "for i in range(len(list1)):\n",
    "    product*=list1[i]\n",
    "print(product)"
   ]
  },
  {
   "cell_type": "code",
   "execution_count": 20,
   "id": "ccaa025d",
   "metadata": {},
   "outputs": [
    {
     "name": "stdout",
     "output_type": "stream",
     "text": [
      "40\n"
     ]
    }
   ],
   "source": [
    "#1)c)\n",
    "list2=[10,1,20,3,40]\n",
    "for i in range(len(list2)-1):\n",
    "    if (list2[i+1]<list2[i]):\n",
    "        temp=list2[i+1]\n",
    "        list2[i+1]=list2[i]\n",
    "        list2[i]=temp\n",
    "largest=list2[len(list2)-1]\n",
    "print(largest)"
   ]
  },
  {
   "cell_type": "code",
   "execution_count": 22,
   "id": "75be5f6a",
   "metadata": {},
   "outputs": [
    {
     "name": "stdout",
     "output_type": "stream",
     "text": [
      "1\n"
     ]
    }
   ],
   "source": [
    "#1)d)\n",
    "for i in range(len(list2)-1):\n",
    "    if (list2[i+1]>list2[i]):\n",
    "        temp=list2[i+1]\n",
    "        list2[i+1]=list2[i]\n",
    "        list2[i]=temp\n",
    "smallest=list2[len(list2)-1]\n",
    "print(smallest)"
   ]
  },
  {
   "cell_type": "code",
   "execution_count": 21,
   "id": "ca751283",
   "metadata": {},
   "outputs": [
    {
     "name": "stdout",
     "output_type": "stream",
     "text": [
      "The first and last characters of the string aba with index 2 are identical\n",
      "The first and last characters of the string 1221 with index 3 are identical\n"
     ]
    }
   ],
   "source": [
    "# #2\n",
    "A=['abc','xyz','aba','1221']\n",
    "for i in range(len(A)):\n",
    "    if ((A[i])[0]==(A[i])[len(A[i])-1]):\n",
    "            print(\"The first and last characters of the string\",A[i],\"with index\",i,\"are identical\")"
   ]
  },
  {
   "cell_type": "code",
   "execution_count": 14,
   "id": "9164c4fd",
   "metadata": {
    "scrolled": true
   },
   "outputs": [
    {
     "name": "stdout",
     "output_type": "stream",
     "text": [
      "     A \n",
      "    A B \n",
      "   A B C \n",
      "  A B C D \n",
      " A B C D E \n",
      "*\n",
      "**\n",
      "***\n",
      "****\n",
      "*****\n"
     ]
    }
   ],
   "source": [
    "#3)a)\n",
    "n=5\n",
    "a= 65\n",
    "for i in range(0,n):\n",
    "    print(\" \" * (n-i),end=\"\")\n",
    "    for j in range(0,i+1):\n",
    "        print(chr(a),end=\" \")\n",
    "        a+= 1\n",
    "    a= 65\n",
    "    print(\"\")\n",
    "#3)b)\n",
    "for i in range(1,6):\n",
    "    for j in range(1,i+1):\n",
    "        print('*',end=\"\")\n",
    "    print(\"\")"
   ]
  },
  {
   "cell_type": "code",
   "execution_count": 2,
   "id": "2df5dfa3",
   "metadata": {},
   "outputs": [
    {
     "name": "stdout",
     "output_type": "stream",
     "text": [
      "[{'colorname': 'Black', 'colorcode': '000000'}, {'colorname': 'Red', 'colorcode': 'FF0000'}, {'colorname': 'Maroon', 'colorcode': '800000'}, {'colorname': 'Yellow', 'colorcode': 'FFFF00'}]\n"
     ]
    }
   ],
   "source": [
    "# #4\n",
    "ListColour= [\"Black\", \"Red\", \"Maroon\", \"Yellow\"]\n",
    "colournumber=[\"000000\", \"FF0000\",\"800000\", \"FFFF00\"]\n",
    "    \n",
    "diction_list=[]\n",
    "for i in range(len(ListColour)):\n",
    "    diction_list.append({'colorname':ListColour[i],'colorcode':colournumber[i]})\n",
    "print(diction_list)"
   ]
  },
  {
   "cell_type": "code",
   "execution_count": 53,
   "id": "4724856c",
   "metadata": {},
   "outputs": [
    {
     "name": "stdout",
     "output_type": "stream",
     "text": [
      "Even number and their squares in the range(1,50):  [(0, 0), (2, 4), (4, 16), (6, 36), (8, 64), (10, 100), (12, 144), (14, 196), (16, 256), (18, 324), (20, 400), (22, 484), (24, 576), (26, 676), (28, 784), (30, 900), (32, 1024), (34, 1156), (36, 1296), (38, 1444), (40, 1600), (42, 1764), (44, 1936), (46, 2116), (48, 2304), (50, 2500)]\n",
      "Even number and their squares in the range(1,100):  [(0, 0), (2, 4), (4, 16), (6, 36), (8, 64), (10, 100), (12, 144), (14, 196), (16, 256), (18, 324), (20, 400), (22, 484), (24, 576), (26, 676), (28, 784), (30, 900), (32, 1024), (34, 1156), (36, 1296), (38, 1444), (40, 1600), (42, 1764), (44, 1936), (46, 2116), (48, 2304), (50, 2500), (52, 2704), (54, 2916), (56, 3136), (58, 3364), (60, 3600), (62, 3844), (64, 4096), (66, 4356), (68, 4624), (70, 4900), (72, 5184), (74, 5476), (76, 5776), (78, 6084), (80, 6400), (82, 6724), (84, 7056), (86, 7396), (88, 7744), (90, 8100), (92, 8464), (94, 8836), (96, 9216), (98, 9604), (100, 10000)]\n"
     ]
    }
   ],
   "source": [
    "#5)a)\n",
    "sq1=[]\n",
    "for i in range(0,51,2):\n",
    "    sq1.append((i,i**2))\n",
    "print(\"Even number and their squares in the range(1,50): \",sq1)\n",
    "#5)b)\n",
    "sq2=[]\n",
    "for i in range(0,101,2):\n",
    "    sq2.append((i,i**2))\n",
    "print(\"Even number and their squares in the range(1,100): \",sq2)"
   ]
  },
  {
   "cell_type": "code",
   "execution_count": 23,
   "id": "4219f3e7",
   "metadata": {},
   "outputs": [
    {
     "name": "stdout",
     "output_type": "stream",
     "text": [
      "The sum of digits is 19\n",
      "The reversed number is 65431\n"
     ]
    }
   ],
   "source": [
    "#6)a)\n",
    "num=13456\n",
    "total=0\n",
    "while(num>0):\n",
    "    digit=num%10\n",
    "    num=int(num/10)\n",
    "    total+=digit\n",
    "print(\"The sum of digits is\",total)\n",
    "\n",
    "#6)b)\n",
    "num=13456\n",
    "reverse=0\n",
    "while(num>0):\n",
    "    digit=num%10\n",
    "    reverse = reverse * 10 + digit\n",
    "    num=int(num/10)\n",
    "print(\"The reversed number is\",reverse)"
   ]
  },
  {
   "cell_type": "code",
   "execution_count": 47,
   "id": "b894a23a",
   "metadata": {},
   "outputs": [],
   "source": [
    "#7\n",
    "def area():\n",
    "    a=float(input(\"Enter side a: \"))\n",
    "    b=float(input(\"Enter side b: \"))\n",
    "    c=float(input(\"Enter side c: \"))\n",
    "    s=(a+b+c)/2\n",
    "    if ((s-a)*(s-b)*(s-c)>=0):\n",
    "         return (s*(s-a)*(s-b)*(s-c))**(1/2)\n",
    "    else:\n",
    "        return \"Invalid side\""
   ]
  },
  {
   "cell_type": "code",
   "execution_count": 48,
   "id": "d486b01e",
   "metadata": {},
   "outputs": [
    {
     "name": "stdout",
     "output_type": "stream",
     "text": [
      "Enter side a: 2\n",
      "Enter side b: 3\n",
      "Enter side c: 4\n",
      "Area of triangle 1 is  2.9047375096555625\n",
      "Enter side a: 5\n",
      "Enter side b: 6\n",
      "Enter side c: 3\n",
      "Area of triangle 2 is  7.483314773547883\n"
     ]
    }
   ],
   "source": [
    "area1=area()\n",
    "print(\"Area of triangle 1 is \", area1)\n",
    "area2=area()\n",
    "print(\"Area of triangle 2 is \", area2)"
   ]
  },
  {
   "cell_type": "code",
   "execution_count": 52,
   "id": "53b312c9",
   "metadata": {},
   "outputs": [
    {
     "name": "stdout",
     "output_type": "stream",
     "text": [
      "Contribution of triangle 1 towards the total area is 27.96 %\n",
      "Contribution of triangle 2 towards the total area is  72.04 %\n"
     ]
    }
   ],
   "source": [
    "total=area1+area2\n",
    "print(\"Contribution of triangle 1 towards the total area is\",round((area1/total)*100,2),\"%\")\n",
    "print(\"Contribution of triangle 2 towards the total area is \",round((area2/total)*100,2),\"%\")"
   ]
  },
  {
   "cell_type": "code",
   "execution_count": 3,
   "id": "ba02c04b",
   "metadata": {},
   "outputs": [
    {
     "name": "stdout",
     "output_type": "stream",
     "text": [
      "Name: John Doe\n",
      "Age: 30\n",
      "Blood Group: A+\n",
      "---------------\n",
      "Name: Jane Smith\n",
      "Age: 25\n",
      "Blood Group: B-\n",
      "---------------\n",
      "Name: Emily Davis\n",
      "Age: 40\n",
      "Blood Group: O+\n",
      "---------------\n",
      "Name: Michael Brown\n",
      "Age: 35\n",
      "Blood Group: AB-\n",
      "---------------\n",
      "Name: William Johnson\n",
      "Age: 28\n",
      "Blood Group: A-\n",
      "---------------\n",
      "Name: Emma Wilson\n",
      "Age: 22\n",
      "Blood Group: B+\n",
      "---------------\n",
      "Name: Oliver Martinez\n",
      "Age: 33\n",
      "Blood Group: O-\n",
      "---------------\n",
      "Name: Sophia Anderson\n",
      "Age: 27\n",
      "Blood Group: AB+\n",
      "---------------\n",
      "Name: James Thomas\n",
      "Age: 45\n",
      "Blood Group: A+\n",
      "---------------\n",
      "Name: Isabella Lee\n",
      "Age: 38\n",
      "Blood Group: B-\n",
      "---------------\n"
     ]
    }
   ],
   "source": [
    "#8\n",
    "people = [\n",
    "    {\"name\": \"John Doe\", \"age\": 30, \"blood_group\": \"A+\"},\n",
    "    {\"name\": \"Jane Smith\", \"age\": 25, \"blood_group\": \"B-\"},\n",
    "    {\"name\": \"Emily Davis\", \"age\": 40, \"blood_group\": \"O+\"},\n",
    "    {\"name\": \"Michael Brown\", \"age\": 35, \"blood_group\": \"AB-\"},\n",
    "    {\"name\": \"William Johnson\", \"age\": 28, \"blood_group\": \"A-\"},\n",
    "    {\"name\": \"Emma Wilson\", \"age\": 22, \"blood_group\": \"B+\"},\n",
    "    {\"name\": \"Oliver Martinez\", \"age\": 33, \"blood_group\": \"O-\"},\n",
    "    {\"name\": \"Sophia Anderson\", \"age\": 27, \"blood_group\": \"AB+\"},\n",
    "    {\"name\": \"James Thomas\", \"age\": 45, \"blood_group\": \"A+\"},\n",
    "    {\"name\": \"Isabella Lee\", \"age\": 38, \"blood_group\": \"B-\"}\n",
    "]\n",
    "for i in people:\n",
    "    print(f\"Name: {i['name']}\")\n",
    "    print(f\"Age: {i['age']}\")\n",
    "    print(f\"Blood Group: {i['blood_group']}\")\n",
    "    print(\"-\"*15)"
   ]
  },
  {
   "cell_type": "code",
   "execution_count": 53,
   "id": "fe082e00",
   "metadata": {},
   "outputs": [
    {
     "name": "stdout",
     "output_type": "stream",
     "text": [
      "['n', 'n', 'p']\n"
     ]
    }
   ],
   "source": [
    "#9\n",
    "A=(\"python\",\"learn\",\"includehelp\")\n",
    "temp=[]\n",
    "for i in range(len(A)):\n",
    "    temp.append((A[i])[len(A[i])-1])\n",
    "print(temp)"
   ]
  },
  {
   "cell_type": "code",
   "execution_count": 80,
   "id": "64d3122c",
   "metadata": {},
   "outputs": [],
   "source": [
    "#10\n",
    "months=['January', 'February', 'March', 'April', 'May', 'June','July', 'August', 'September', 'October', 'November', 'December']"
   ]
  },
  {
   "cell_type": "code",
   "execution_count": 81,
   "id": "ba100ea2",
   "metadata": {},
   "outputs": [],
   "source": [
    "def days():\n",
    "    month=str(input(\"Enter month: \"))\n",
    "    year=int(input(\"Enter year: \"))\n",
    "    for i in months:\n",
    "        if (month.lower()==i.lower()):\n",
    "            ind=months.index(i)\n",
    "            if (ind==0 or ind==2 or ind==4 or ind==6 or ind==7 or ind==9 or ind==11):\n",
    "                print(\"Number of days in \",i,\"is 31\")\n",
    "            elif (ind==1) and (year%4==0):\n",
    "                print(\"Number of days in \",i,\"is 29\")\n",
    "            elif (ind==1) and (year%4!=0):\n",
    "                print(\"Number of days in \",i,\"is 28\")\n",
    "            else:\n",
    "                print(\"Number of days in \",i,\"is 30\")"
   ]
  },
  {
   "cell_type": "code",
   "execution_count": 84,
   "id": "5116f273",
   "metadata": {},
   "outputs": [
    {
     "name": "stdout",
     "output_type": "stream",
     "text": [
      "Enter month: february\n",
      "Enter year: 2024\n",
      "Number of days in  February is 29\n"
     ]
    }
   ],
   "source": [
    "days()"
   ]
  }
 ],
 "metadata": {
  "kernelspec": {
   "display_name": "Python 3 (ipykernel)",
   "language": "python",
   "name": "python3"
  },
  "language_info": {
   "codemirror_mode": {
    "name": "ipython",
    "version": 3
   },
   "file_extension": ".py",
   "mimetype": "text/x-python",
   "name": "python",
   "nbconvert_exporter": "python",
   "pygments_lexer": "ipython3",
   "version": "3.11.4"
  }
 },
 "nbformat": 4,
 "nbformat_minor": 5
}
