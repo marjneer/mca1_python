{
 "cells": [
  {
   "cell_type": "code",
   "execution_count": 2,
   "id": "b53ef821",
   "metadata": {},
   "outputs": [],
   "source": [
    "#1)a)i)\n",
    "def largest(x):\n",
    "    for i in range(len(x)-1):\n",
    "        if (x[i+1]<x[i]):\n",
    "            temp=x[i+1]\n",
    "            x[i+1]=x[i]\n",
    "            x[i]=temp\n",
    "    return x[len(x)-1]"
   ]
  },
  {
   "cell_type": "code",
   "execution_count": 3,
   "id": "47c492f5",
   "metadata": {},
   "outputs": [],
   "source": [
    "#1)a)ii)\n",
    "def smallest(x):\n",
    "    for i in range(len(x)-1):\n",
    "        if (x[i+1]>x[i]):\n",
    "            temp=x[i+1]\n",
    "            x[i+1]=x[i]\n",
    "            x[i]=temp\n",
    "    return x[len(x)-1]"
   ]
  },
  {
   "cell_type": "code",
   "execution_count": 4,
   "id": "72212aa4",
   "metadata": {},
   "outputs": [],
   "source": [
    "#1)a)iii)\n",
    "def total(x):\n",
    "    sum1=0\n",
    "    for i in range(len(x)):\n",
    "        sum1+=x[i]\n",
    "    return sum1"
   ]
  },
  {
   "cell_type": "code",
   "execution_count": 5,
   "id": "6d48ea54",
   "metadata": {},
   "outputs": [],
   "source": [
    "#1)a)iv)\n",
    "def avg(x):\n",
    "    sum1=0\n",
    "    for i in range(len(x)):\n",
    "        sum1+=x[i]\n",
    "    return sum1/len(x)"
   ]
  },
  {
   "cell_type": "code",
   "execution_count": 7,
   "id": "5e7241e7",
   "metadata": {},
   "outputs": [
    {
     "name": "stdout",
     "output_type": "stream",
     "text": [
      "Largest number:  25\n",
      "Smallest number:  1\n",
      "Total of elements:  55\n",
      "Average of elements:  9.166666666666666\n"
     ]
    }
   ],
   "source": [
    "list1=[2,3,10,1,25,14]\n",
    "print(\"Largest number: \", largest(list1))\n",
    "print(\"Smallest number: \", smallest(list1))\n",
    "print(\"Total of elements: \", total(list1))\n",
    "print(\"Average of elements: \", avg(list1))"
   ]
  }
 ],
 "metadata": {
  "kernelspec": {
   "display_name": "Python 3 (ipykernel)",
   "language": "python",
   "name": "python3"
  },
  "language_info": {
   "codemirror_mode": {
    "name": "ipython",
    "version": 3
   },
   "file_extension": ".py",
   "mimetype": "text/x-python",
   "name": "python",
   "nbconvert_exporter": "python",
   "pygments_lexer": "ipython3",
   "version": "3.11.4"
  }
 },
 "nbformat": 4,
 "nbformat_minor": 5
}
