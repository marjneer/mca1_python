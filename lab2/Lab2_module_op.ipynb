{
 "cells": [
  {
   "cell_type": "code",
   "execution_count": 8,
   "id": "f979574d",
   "metadata": {},
   "outputs": [],
   "source": [
    "s1={1,2,3,6,7}\n",
    "s2={2,3,4,5,9,10}\n",
    "s3={1,2,3}"
   ]
  },
  {
   "cell_type": "code",
   "execution_count": 11,
   "id": "1fdd1b3f",
   "metadata": {},
   "outputs": [
    {
     "name": "stdout",
     "output_type": "stream",
     "text": [
      "Adding elements:  {1, 2, 3, 20, 7}\n",
      "Removing elements:  {1, 2, 3, 20, 7}\n",
      "Union of sets:  {1, 2, 3, 4, 5, 7, 9, 10, 20}\n",
      "Intersection of sets:  {2, 3}\n",
      "Difference of sets:  {1, 20, 7}\n",
      "Union of sets:  {1, 2, 3, 4, 5, 7, 9, 10, 20}\n",
      "Checking whether s3 is a subset of s1:  True\n",
      "Length of set:  5\n",
      "Symmetric difference of sets:  {1, 4, 5, 7, 9, 10, 20}\n"
     ]
    }
   ],
   "source": [
    "import SetOp as so\n",
    "print(\"Adding elements: \", so.add(s1,20))\n",
    "print(\"Removing elements: \", so.remove(s1,6))\n",
    "print(\"Union of sets: \", so.union(s1,s2))\n",
    "print(\"Intersection of sets: \", so.intersection(s1,s2))\n",
    "print(\"Difference of sets: \", so.diff(s1,s2))\n",
    "print(\"Union of sets: \", so.union(s1,s2))\n",
    "print(\"Checking whether s3 is a subset of s1: \", so.subset_check(s3,s1))\n",
    "print(\"Length of set: \", so.length(s1))\n",
    "print(\"Symmetric difference of sets: \", so.sym_diff(s1,s2))"
   ]
  },
  {
   "cell_type": "code",
   "execution_count": 14,
   "id": "7d26260d",
   "metadata": {},
   "outputs": [],
   "source": [
    "dict1 = {'a': 1, 'b': 2, 'c': 3}\n",
    "dict2 = {'b': 4, 'd': 5}\n",
    "dict3 = {'e': 6, 'f': 7}"
   ]
  },
  {
   "cell_type": "code",
   "execution_count": 16,
   "id": "909030fa",
   "metadata": {},
   "outputs": [],
   "source": [
    "import DictOp as do\n",
    "print(\"Merging dictionaries: \", do.merging_Dict(dict1,dict2,dict3))\n",
    "print(\"Common keys in the dictionary: \", do.common(dict1,dict2,dict3))"
   ]
  },
  {
   "cell_type": "code",
   "execution_count": 19,
   "id": "6fb1724d",
   "metadata": {},
   "outputs": [],
   "source": [
    "import LibraryManager as lm\n",
    "\n",
    "lm.add(\"978-3030687158\", \"Algorithms and Data Structures: A Practical Approach\", \"K. A. Berman, Jerome L. Paul\", \"Springer\", \"1st Edition\", 2021, \"Data Structures\")\n",
    "lm.add(\"978-1118290279\", \"Data Structures and Algorithms in Python\", \"Michael T. Goodrich, Roberto Tamassia, Michael H. Goldwasser\", \"Wiley\", \"3rd Edition\", 2020, \"Data Structures\")\n",
    "lm.add(\"978-0991133124\", \"Operating Systems: Principles and Practice\", \"Thomas Anderson, Michael Dahlin\", \"Recursive Books\", \"2nd Edition\", 2022, \"Operating Systems\")\n",
    "lm.add(\"978-1119756630\", \"Operating System Concepts\", \"Abraham Silberschatz, Henry Korth, S. Sudarshan\", \"Wiley\", \"10th Edition\", 2021, \"Operating Systems\")\n",
    "lm.add(\"978-0135891978\", \"Modern Operating Systems\", \"Andrew S. Tanenbaum\", \"Pearson\", \"4th Edition\", 2021, \"Operating Systems\")\n",
    "lm.add(\"978-0991133100\", \"Operating Systems: Three Easy Pieces\", \"Remzi H. Arpaci-Dusseau, Andrea C. Arpaci-Dusseau\", \"Arpaci-Dusseau Books\", \"2nd Edition\", 2020, \"Operating Systems\")"
   ]
  },
  {
   "cell_type": "code",
   "execution_count": 22,
   "id": "22e49a63",
   "metadata": {},
   "outputs": [
    {
     "data": {
      "text/plain": [
       "{'978-3030687158': {'title': 'Algorithms and Data Structures: A Practical Approach',\n",
       "  'author': 'K. A. Berman, Jerome L. Paul',\n",
       "  'publisher': 'Springer',\n",
       "  'volume': '1st Edition',\n",
       "  'year': 2021,\n",
       "  'topic': 'Data Structures'},\n",
       " '978-1118290279': {'title': 'Data Structures and Algorithms in Python',\n",
       "  'author': 'Michael T. Goodrich, Roberto Tamassia, Michael H. Goldwasser',\n",
       "  'publisher': 'Wiley',\n",
       "  'volume': '3rd Edition',\n",
       "  'year': 2020,\n",
       "  'topic': 'Data Structures'},\n",
       " '978-0991133124': {'title': 'Operating Systems: Principles and Practice',\n",
       "  'author': 'Thomas Anderson, Michael Dahlin',\n",
       "  'publisher': 'Recursive Books',\n",
       "  'volume': '2nd Edition',\n",
       "  'year': 2022,\n",
       "  'topic': 'Operating Systems'},\n",
       " '978-1119756630': {'title': 'Operating System Concepts',\n",
       "  'author': 'Abraham Silberschatz, Henry Korth, S. Sudarshan',\n",
       "  'publisher': 'Wiley',\n",
       "  'volume': '10th Edition',\n",
       "  'year': 2021,\n",
       "  'topic': 'Operating Systems'},\n",
       " '978-0135891978': {'title': 'Modern Operating Systems',\n",
       "  'author': 'Andrew S. Tanenbaum',\n",
       "  'publisher': 'Pearson',\n",
       "  'volume': '4th Edition',\n",
       "  'year': 2021,\n",
       "  'topic': 'Operating Systems'},\n",
       " '978-0991133100': {'title': 'Operating Systems: Three Easy Pieces',\n",
       "  'author': 'Remzi H. Arpaci-Dusseau, Andrea C. Arpaci-Dusseau',\n",
       "  'publisher': 'Arpaci-Dusseau Books',\n",
       "  'volume': '2nd Edition',\n",
       "  'year': 2020,\n",
       "  'topic': 'Operating Systems'}}"
      ]
     },
     "execution_count": 22,
     "metadata": {},
     "output_type": "execute_result"
    }
   ],
   "source": [
    "lm.all()"
   ]
  },
  {
   "cell_type": "code",
   "execution_count": 21,
   "id": "868afaf2",
   "metadata": {},
   "outputs": [
    {
     "data": {
      "text/plain": [
       "{'title': 'Operating Systems: Principles and Practice',\n",
       " 'author': 'Thomas Anderson, Michael Dahlin',\n",
       " 'publisher': 'Recursive Books',\n",
       " 'volume': '2nd Edition',\n",
       " 'year': 2022,\n",
       " 'topic': 'Operating Systems'}"
      ]
     },
     "execution_count": 21,
     "metadata": {},
     "output_type": "execute_result"
    }
   ],
   "source": [
    "lm.check(\"978-0991133124\")"
   ]
  },
  {
   "cell_type": "code",
   "execution_count": 23,
   "id": "07cb0a6e",
   "metadata": {},
   "outputs": [],
   "source": [
    "lm.remove(\"978-0991133124\")"
   ]
  },
  {
   "cell_type": "code",
   "execution_count": 24,
   "id": "b16cff01",
   "metadata": {},
   "outputs": [
    {
     "ename": "KeyError",
     "evalue": "'978-0991133124'",
     "output_type": "error",
     "traceback": [
      "\u001b[1;31m---------------------------------------------------------------------------\u001b[0m",
      "\u001b[1;31mKeyError\u001b[0m                                  Traceback (most recent call last)",
      "Cell \u001b[1;32mIn[24], line 1\u001b[0m\n\u001b[1;32m----> 1\u001b[0m lm\u001b[38;5;241m.\u001b[39mcheck(\u001b[38;5;124m\"\u001b[39m\u001b[38;5;124m978-0991133124\u001b[39m\u001b[38;5;124m\"\u001b[39m)\n",
      "File \u001b[1;32m~\\LibraryManager.py:52\u001b[0m, in \u001b[0;36mcheck\u001b[1;34m(isbn)\u001b[0m\n\u001b[0;32m     51\u001b[0m \u001b[38;5;28;01mdef\u001b[39;00m \u001b[38;5;21mcheck\u001b[39m(isbn):\n\u001b[1;32m---> 52\u001b[0m     \u001b[38;5;28;01mreturn\u001b[39;00m library[isbn]\n",
      "\u001b[1;31mKeyError\u001b[0m: '978-0991133124'"
     ]
    }
   ],
   "source": [
    "lm.check(\"978-0991133124\")"
   ]
  },
  {
   "cell_type": "code",
   "execution_count": 25,
   "id": "8b38a926",
   "metadata": {},
   "outputs": [
    {
     "data": {
      "text/plain": [
       "{'title': 'Algorithms and Data Structures: A Practical Approach',\n",
       " 'author': 'K. A. Berman, Jerome L. Paul',\n",
       " 'publisher': 'Springer',\n",
       " 'volume': '1st Edition',\n",
       " 'year': 2021,\n",
       " 'topic': 'Data Structures'}"
      ]
     },
     "execution_count": 25,
     "metadata": {},
     "output_type": "execute_result"
    }
   ],
   "source": [
    "lm.retrieve(\"978-3030687158\")"
   ]
  },
  {
   "cell_type": "code",
   "execution_count": 26,
   "id": "1f95e674",
   "metadata": {},
   "outputs": [
    {
     "data": {
      "text/plain": [
       "[('978-0991133100',\n",
       "  {'title': 'Operating Systems: Three Easy Pieces',\n",
       "   'author': 'Remzi H. Arpaci-Dusseau, Andrea C. Arpaci-Dusseau',\n",
       "   'publisher': 'Arpaci-Dusseau Books',\n",
       "   'volume': '2nd Edition',\n",
       "   'year': 2020,\n",
       "   'topic': 'Operating Systems'})]"
      ]
     },
     "execution_count": 26,
     "metadata": {},
     "output_type": "execute_result"
    }
   ],
   "source": [
    "lm.search('Remzi H. Arpaci-Dusseau, Andrea C. Arpaci-Dusseau')"
   ]
  }
 ],
 "metadata": {
  "kernelspec": {
   "display_name": "Python 3 (ipykernel)",
   "language": "python",
   "name": "python3"
  },
  "language_info": {
   "codemirror_mode": {
    "name": "ipython",
    "version": 3
   },
   "file_extension": ".py",
   "mimetype": "text/x-python",
   "name": "python",
   "nbconvert_exporter": "python",
   "pygments_lexer": "ipython3",
   "version": "3.11.4"
  }
 },
 "nbformat": 4,
 "nbformat_minor": 5
}
